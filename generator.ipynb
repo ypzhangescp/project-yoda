{
  "nbformat": 4,
  "nbformat_minor": 5,
  "metadata": {
    "kernelspec": {
      "display_name": "Project-YODA",
      "language": "python",
      "name": "project-yoda"
    },
    "language_info": {
      "codemirror_mode": {
        "name": "ipython",
        "version": 3
      },
      "file_extension": ".py",
      "mimetype": "text/x-python",
      "name": "python",
      "nbconvert_exporter": "python",
      "pygments_lexer": "ipython3",
      "version": "3.8.12"
    },
    "latex_envs": {
      "LaTeX_envs_menu_present": true,
      "autoclose": false,
      "autocomplete": true,
      "bibliofile": "biblio.bib",
      "cite_by": "apalike",
      "current_citInitial": 1,
      "eqLabelWithNumbers": true,
      "eqNumInitial": 1,
      "hotkeys": {
        "equation": "Ctrl-E",
        "itemize": "Ctrl-I"
      },
      "labels_anchors": false,
      "latex_user_defs": false,
      "report_style_numbering": false,
      "user_envs_cfg": false
    },
    "toc": {
      "base_numbering": 1,
      "nav_menu": {},
      "number_sections": true,
      "sideBar": true,
      "skip_h1_title": false,
      "title_cell": "Table of Contents",
      "title_sidebar": "Contents",
      "toc_cell": false,
      "toc_position": {},
      "toc_section_display": true,
      "toc_window_display": false
    },
    "colab": {
      "name": "generator.ipynb",
      "provenance": [],
      "collapsed_sections": [],
      "include_colab_link": true
    }
  },
  "cells": [
    {
      "cell_type": "markdown",
      "metadata": {
        "id": "view-in-github",
        "colab_type": "text"
      },
      "source": [
        "<a href=\"https://colab.research.google.com/github/ypzhangescp/project-yoda/blob/main/generator.ipynb\" target=\"_parent\"><img src=\"https://colab.research.google.com/assets/colab-badge.svg\" alt=\"Open In Colab\"/></a>"
      ]
    },
    {
      "cell_type": "code",
      "metadata": {
        "id": "2930d94b"
      },
      "source": [
        "import tensorflow as tf\n",
        "from tensorflow.keras.layers import Input, Reshape, Dropout, Dense\n",
        "from tensorflow.keras.layers import Flatten, BatchNormalization\n",
        "from tensorflow.keras.layers import Activation, ZeroPadding2D\n",
        "from tensorflow.keras.layers import LeakyReLU\n",
        "from tensorflow.keras.layers import UpSampling2D, Conv2D\n",
        "from tensorflow.keras.models import Sequential, Model, load_model\n",
        "from tensorflow.keras.optimizers import Adam\n",
        "from tensorflow.compat.v1 import Session, get_variable, placeholder, truncated_normal_initializer, get_variable_scope\n",
        "import numpy as np\n",
        "import pandas as pd\n",
        "from PIL import Image\n",
        "from tqdm import tqdm\n",
        "import os\n",
        "import cv2\n",
        "import time\n",
        "import matplotlib.pyplot as plt"
      ],
      "id": "2930d94b",
      "execution_count": null,
      "outputs": []
    },
    {
      "cell_type": "code",
      "metadata": {
        "id": "7F8lHT1bWFnz",
        "colab": {
          "base_uri": "https://localhost:8080/"
        },
        "outputId": "1a3caca5-fd7f-4619-8d12-5adb83832c57"
      },
      "source": [
        "!mv ../raw_data.zip ."
      ],
      "id": "7F8lHT1bWFnz",
      "execution_count": 90,
      "outputs": [
        {
          "output_type": "stream",
          "name": "stdout",
          "text": [
            "mv: cannot stat '../raw_data.zip': No such file or directory\n"
          ]
        }
      ]
    },
    {
      "cell_type": "markdown",
      "metadata": {
        "id": "-7Xk7G9pU4-Q"
      },
      "source": [
        "# New Section"
      ],
      "id": "-7Xk7G9pU4-Q"
    },
    {
      "cell_type": "code",
      "metadata": {
        "colab": {
          "base_uri": "https://localhost:8080/"
        },
        "id": "AYoN_I8eURp9",
        "outputId": "d729d6e3-48ba-452b-d570-37b4bbed94d8"
      },
      "source": [
        "!unzip raw_data.zip"
      ],
      "id": "AYoN_I8eURp9",
      "execution_count": null,
      "outputs": [
        {
          "output_type": "stream",
          "name": "stdout",
          "text": [
            "Archive:  raw_data.zip\n",
            "   creating: raw_data/\n",
            "  inflating: raw_data/.DS_Store      \n",
            "   creating: raw_data/harry-potter/\n",
            "  inflating: raw_data/harry-potter/.DS_Store  \n",
            "   creating: raw_data/harry-potter/0002/\n",
            "  inflating: raw_data/harry-potter/0002/002.jpg  \n",
            "  inflating: raw_data/harry-potter/0002/003.jpg  \n",
            "  inflating: raw_data/harry-potter/0002/001.jpg  \n",
            "  inflating: raw_data/harry-potter/0002/004.jpg  \n",
            "  inflating: raw_data/harry-potter/0002/010.jpg  \n",
            "  inflating: raw_data/harry-potter/0002/011.jpg  \n",
            "  inflating: raw_data/harry-potter/0002/005.jpg  \n",
            "  inflating: raw_data/harry-potter/0002/013.jpg  \n",
            "  inflating: raw_data/harry-potter/0002/007.jpg  \n",
            "  inflating: raw_data/harry-potter/0002/006.jpg  \n",
            "  inflating: raw_data/harry-potter/0002/012.jpg  \n",
            "  inflating: raw_data/harry-potter/0002/008.jpg  \n",
            "  inflating: raw_data/harry-potter/0002/009.jpg  \n",
            "   creating: raw_data/harry-potter/0001/\n",
            "  inflating: raw_data/harry-potter/0001/002.jpg  \n",
            "  inflating: raw_data/harry-potter/0001/003.jpg  \n",
            "  inflating: raw_data/harry-potter/0001/001.jpg  \n",
            "  inflating: raw_data/harry-potter/0001/004.jpg  \n",
            "  inflating: raw_data/harry-potter/0001/010.jpg  \n",
            "  inflating: raw_data/harry-potter/0001/011.jpg  \n",
            "  inflating: raw_data/harry-potter/0001/005.jpg  \n",
            "  inflating: raw_data/harry-potter/0001/013.jpg  \n",
            "  inflating: raw_data/harry-potter/0001/007.jpg  \n",
            "  inflating: raw_data/harry-potter/0001/006.jpg  \n",
            "  inflating: raw_data/harry-potter/0001/012.jpg  \n",
            "  inflating: raw_data/harry-potter/0001/008.jpg  \n",
            "  inflating: raw_data/harry-potter/0001/009.jpg  \n",
            "  inflating: raw_data/LICENSE        \n",
            "   creating: raw_data/test/\n",
            "  inflating: raw_data/test/016.jpg   \n",
            "  inflating: raw_data/test/002.jpg   \n",
            "  inflating: raw_data/test/003.jpg   \n",
            "  inflating: raw_data/test/017.jpg   \n",
            "  inflating: raw_data/test/0072.jpg  \n",
            "  inflating: raw_data/test/029.jpg   \n",
            "  inflating: raw_data/test/001.jpg   \n",
            "  inflating: raw_data/test/015.jpg   \n",
            "  inflating: raw_data/test/014.jpg   \n",
            "  inflating: raw_data/test/028.jpg   \n",
            "  inflating: raw_data/test/0073.jpg  \n",
            "  inflating: raw_data/test/004.jpg   \n",
            "  inflating: raw_data/test/010.jpg   \n",
            "  inflating: raw_data/test/038.jpg   \n",
            "  inflating: raw_data/test/039.jpg   \n",
            "  inflating: raw_data/test/011.jpg   \n",
            "  inflating: raw_data/test/005.jpg   \n",
            "  inflating: raw_data/test/013.jpg   \n",
            "  inflating: raw_data/test/007.jpg   \n",
            "  inflating: raw_data/test/006.jpg   \n",
            "  inflating: raw_data/test/012.jpg   \n",
            "  inflating: raw_data/test/049.jpg   \n",
            "  inflating: raw_data/test/075.jpg   \n",
            "  inflating: raw_data/test/061.jpg   \n",
            "  inflating: raw_data/test/060.jpg   \n",
            "  inflating: raw_data/test/074.jpg   \n",
            "  inflating: raw_data/test/048.jpg   \n",
            "  inflating: raw_data/test/062.jpg   \n",
            "  inflating: raw_data/test/076.jpg   \n",
            "  inflating: raw_data/test/063.jpg   \n",
            "   creating: raw_data/test/google test data/\n",
            "  inflating: raw_data/test/google test data/85.jpeg  \n",
            "  inflating: raw_data/test/google test data/076.jpg  \n",
            "  inflating: raw_data/test/google test data/077.png  \n",
            "  inflating: raw_data/test/google test data/079.jpg  \n",
            "  inflating: raw_data/test/google test data/80.jpg  \n",
            "  inflating: raw_data/test/067.jpg   \n",
            "  inflating: raw_data/test/073.jpg   \n",
            "  inflating: raw_data/test/072.jpg   \n",
            "  inflating: raw_data/test/066.jpg   \n",
            "  inflating: raw_data/test/070.jpg   \n",
            "  inflating: raw_data/test/064.jpg   \n",
            "  inflating: raw_data/test/058.jpg   \n",
            "  inflating: raw_data/test/059.jpg   \n",
            "  inflating: raw_data/test/065.jpg   \n",
            "  inflating: raw_data/test/071.jpg   \n",
            "  inflating: raw_data/test/068.jpg   \n",
            "  inflating: raw_data/test/054.jpg   \n",
            "  inflating: raw_data/test/040.jpg   \n",
            "  inflating: raw_data/test/041.jpg   \n",
            "  inflating: raw_data/test/055.jpg   \n",
            "  inflating: raw_data/test/069.jpg   \n",
            "  inflating: raw_data/test/043.jpg   \n",
            "  inflating: raw_data/test/057.jpg   \n",
            "  inflating: raw_data/test/056.jpg   \n",
            "  inflating: raw_data/test/042.jpg   \n",
            "  inflating: raw_data/test/046.jpg   \n",
            "  inflating: raw_data/test/052.jpg   \n",
            "  inflating: raw_data/test/053.jpg   \n",
            "  inflating: raw_data/test/047.jpg   \n",
            "  inflating: raw_data/test/051.jpg   \n",
            "  inflating: raw_data/test/045.jpg   \n",
            "  inflating: raw_data/test/044.jpg   \n",
            "  inflating: raw_data/test/050.jpg   \n",
            "  inflating: raw_data/test/037.jpg   \n",
            "  inflating: raw_data/test/023.jpg   \n",
            "  inflating: raw_data/test/022.jpg   \n",
            "  inflating: raw_data/test/036.jpg   \n",
            "  inflating: raw_data/test/008.jpg   \n",
            "  inflating: raw_data/test/020.jpg   \n",
            "  inflating: raw_data/test/034.jpg   \n",
            "  inflating: raw_data/test/035.jpg   \n",
            "  inflating: raw_data/test/021.jpg   \n",
            "  inflating: raw_data/test/009.jpg   \n",
            "  inflating: raw_data/test/025.jpg   \n",
            "  inflating: raw_data/test/031.jpg   \n",
            "  inflating: raw_data/test/019.jpg   \n",
            "  inflating: raw_data/test/018.jpg   \n",
            "  inflating: raw_data/test/030.jpg   \n",
            "  inflating: raw_data/test/024.jpg   \n",
            "  inflating: raw_data/test/032.jpg   \n",
            "  inflating: raw_data/test/026.jpg   \n",
            "  inflating: raw_data/test/027.jpg   \n",
            "  inflating: raw_data/test/033.jpg   \n",
            "   creating: raw_data/Looney-Tunes/\n",
            "  inflating: raw_data/Looney-Tunes/Screenshot 2021-11-23 at 3.41.11 PM.png  \n",
            "  inflating: raw_data/Looney-Tunes/.DS_Store  \n",
            "  inflating: raw_data/Looney-Tunes/Screenshot 2021-11-23 at 3.40.43 PM.png  \n",
            "  inflating: raw_data/test.csv       \n",
            "   creating: raw_data/jurassic-world/\n",
            "  inflating: raw_data/jurassic-world/.DS_Store  \n",
            "   creating: raw_data/jurassic-world/0002/\n",
            "  inflating: raw_data/jurassic-world/0002/002.jpg  \n",
            "  inflating: raw_data/jurassic-world/0002/003.jpg  \n",
            "  inflating: raw_data/jurassic-world/0002/001.jpg  \n",
            "  inflating: raw_data/jurassic-world/0002/014.jpg  \n",
            "  inflating: raw_data/jurassic-world/0002/004.jpg  \n",
            "  inflating: raw_data/jurassic-world/0002/010.jpg  \n",
            "  inflating: raw_data/jurassic-world/0002/011.jpg  \n",
            "  inflating: raw_data/jurassic-world/0002/005.jpg  \n",
            "  inflating: raw_data/jurassic-world/0002/013.jpg  \n",
            "  inflating: raw_data/jurassic-world/0002/007.jpg  \n",
            "  inflating: raw_data/jurassic-world/0002/006.jpg  \n",
            "  inflating: raw_data/jurassic-world/0002/012.jpg  \n",
            "  inflating: raw_data/jurassic-world/0002/008.jpg  \n",
            "  inflating: raw_data/jurassic-world/0002/009.jpg  \n",
            "   creating: raw_data/jurassic-world/0001/\n",
            "  inflating: raw_data/jurassic-world/0001/002.jpg  \n",
            "  inflating: raw_data/jurassic-world/0001/003.jpg  \n",
            "  inflating: raw_data/jurassic-world/0001/001.jpg  \n",
            "  inflating: raw_data/jurassic-world/0001/014.jpg  \n",
            "  inflating: raw_data/jurassic-world/0001/004.jpg  \n",
            "  inflating: raw_data/jurassic-world/0001/010.jpg  \n",
            "  inflating: raw_data/jurassic-world/0001/011.jpg  \n",
            "  inflating: raw_data/jurassic-world/0001/005.jpg  \n",
            "  inflating: raw_data/jurassic-world/0001/013.jpg  \n",
            "  inflating: raw_data/jurassic-world/0001/007.jpg  \n",
            "  inflating: raw_data/jurassic-world/0001/006.jpg  \n",
            "  inflating: raw_data/jurassic-world/0001/012.jpg  \n",
            "  inflating: raw_data/jurassic-world/0001/008.jpg  \n",
            "  inflating: raw_data/jurassic-world/0001/009.jpg  \n",
            " extracting: raw_data/.keep          \n",
            "   creating: raw_data/star-wars/\n",
            "  inflating: raw_data/star-wars/.DS_Store  \n",
            "   creating: raw_data/star-wars/0003/\n",
            "  inflating: raw_data/star-wars/0003/002.jpg  \n",
            "  inflating: raw_data/star-wars/0003/003.jpg  \n",
            "  inflating: raw_data/star-wars/0003/001.jpg  \n",
            "  inflating: raw_data/star-wars/0003/004.jpg  \n",
            "  inflating: raw_data/star-wars/0003/010.jpg  \n",
            "  inflating: raw_data/star-wars/0003/011.jpg  \n",
            "  inflating: raw_data/star-wars/0003/005.jpg  \n",
            "  inflating: raw_data/star-wars/0003/007.jpg  \n",
            "  inflating: raw_data/star-wars/0003/006.jpg  \n",
            "  inflating: raw_data/star-wars/0003/012.jpg  \n",
            "  inflating: raw_data/star-wars/0003/008.jpg  \n",
            "  inflating: raw_data/star-wars/0003/009.jpg  \n",
            "   creating: raw_data/star-wars/0004/\n",
            "  inflating: raw_data/star-wars/0004/002.jpg  \n",
            "  inflating: raw_data/star-wars/0004/003.jpg  \n",
            "  inflating: raw_data/star-wars/0004/001.jpg  \n",
            "  inflating: raw_data/star-wars/0004/004.jpg  \n",
            "  inflating: raw_data/star-wars/0004/010.jpg  \n",
            "  inflating: raw_data/star-wars/0004/011.jpg  \n",
            "  inflating: raw_data/star-wars/0004/005.jpg  \n",
            "  inflating: raw_data/star-wars/0004/013.jpg  \n",
            "  inflating: raw_data/star-wars/0004/007.jpg  \n",
            "  inflating: raw_data/star-wars/0004/006.jpg  \n",
            "  inflating: raw_data/star-wars/0004/012.jpg  \n",
            "  inflating: raw_data/star-wars/0004/008.jpg  \n",
            "  inflating: raw_data/star-wars/0004/009.jpg  \n",
            "   creating: raw_data/star-wars/0005/\n",
            "  inflating: raw_data/star-wars/0005/002.jpg  \n",
            "  inflating: raw_data/star-wars/0005/003.jpg  \n",
            "  inflating: raw_data/star-wars/0005/001.jpg  \n",
            "  inflating: raw_data/star-wars/0005/014.jpg  \n",
            "  inflating: raw_data/star-wars/0005/004.jpg  \n",
            "  inflating: raw_data/star-wars/0005/010.jpg  \n",
            "  inflating: raw_data/star-wars/0005/011.jpg  \n",
            "  inflating: raw_data/star-wars/0005/005.jpg  \n",
            "  inflating: raw_data/star-wars/0005/013.jpg  \n",
            "  inflating: raw_data/star-wars/0005/007.jpg  \n",
            "  inflating: raw_data/star-wars/0005/006.jpg  \n",
            "  inflating: raw_data/star-wars/0005/012.jpg  \n",
            "  inflating: raw_data/star-wars/0005/008.jpg  \n",
            "  inflating: raw_data/star-wars/0005/009.jpg  \n",
            "   creating: raw_data/star-wars/0002/\n",
            "  inflating: raw_data/star-wars/0002/002.jpg  \n",
            "  inflating: raw_data/star-wars/0002/003.jpg  \n",
            "  inflating: raw_data/star-wars/0002/001.jpg  \n",
            "  inflating: raw_data/star-wars/0002/004.jpg  \n",
            "  inflating: raw_data/star-wars/0002/010.jpg  \n",
            "  inflating: raw_data/star-wars/0002/011.jpg  \n",
            "  inflating: raw_data/star-wars/0002/005.jpg  \n",
            "  inflating: raw_data/star-wars/0002/007.jpg  \n",
            "  inflating: raw_data/star-wars/0002/006.jpg  \n",
            "  inflating: raw_data/star-wars/0002/012.jpg  \n",
            "  inflating: raw_data/star-wars/0002/008.jpg  \n",
            "  inflating: raw_data/star-wars/0002/009.jpg  \n",
            "   creating: raw_data/star-wars/0011/\n",
            "  inflating: raw_data/star-wars/0011/002.jpg  \n",
            "  inflating: raw_data/star-wars/0011/003.jpg  \n",
            "  inflating: raw_data/star-wars/0011/001.jpg  \n",
            "  inflating: raw_data/star-wars/0011/004.jpg  \n",
            "  inflating: raw_data/star-wars/0011/005.jpg  \n",
            "  inflating: raw_data/star-wars/0011/007.jpg  \n",
            "  inflating: raw_data/star-wars/0011/006.jpg  \n",
            "  inflating: raw_data/star-wars/0011/008.jpg  \n",
            "   creating: raw_data/star-wars/0016/\n",
            "  inflating: raw_data/star-wars/0016/002.jpg  \n",
            "  inflating: raw_data/star-wars/0016/003.jpg  \n",
            "  inflating: raw_data/star-wars/0016/001.jpg  \n",
            "  inflating: raw_data/star-wars/0016/004.jpg  \n",
            "  inflating: raw_data/star-wars/0016/005.jpg  \n",
            "  inflating: raw_data/star-wars/0016/007.jpg  \n",
            "  inflating: raw_data/star-wars/0016/006.jpg  \n",
            "  inflating: raw_data/star-wars/0016/008.jpg  \n",
            "  inflating: raw_data/star-wars/0016/009.jpg  \n",
            "   creating: raw_data/star-wars/0010/\n",
            "  inflating: raw_data/star-wars/0010/002.jpg  \n",
            "  inflating: raw_data/star-wars/0010/003.jpg  \n",
            "  inflating: raw_data/star-wars/0010/001.jpg  \n",
            "  inflating: raw_data/star-wars/0010/004.jpg  \n",
            "  inflating: raw_data/star-wars/0010/005.jpg  \n",
            "  inflating: raw_data/star-wars/0010/007.jpg  \n",
            "  inflating: raw_data/star-wars/0010/006.jpg  \n",
            "  inflating: raw_data/star-wars/0010/008.jpg  \n",
            "   creating: raw_data/star-wars/0007/\n",
            "  inflating: raw_data/star-wars/0007/002.jpg  \n",
            "  inflating: raw_data/star-wars/0007/003.jpg  \n",
            "  inflating: raw_data/star-wars/0007/001.jpg  \n",
            "  inflating: raw_data/star-wars/0007/004.jpg  \n",
            "  inflating: raw_data/star-wars/0007/005.jpg  \n",
            "  inflating: raw_data/star-wars/0007/007.jpg  \n",
            "  inflating: raw_data/star-wars/0007/006.jpg  \n",
            "  inflating: raw_data/star-wars/0007/008.jpg  \n",
            "   creating: raw_data/star-wars/0009/\n",
            "  inflating: raw_data/star-wars/0009/002.jpg  \n",
            "  inflating: raw_data/star-wars/0009/003.jpg  \n",
            "  inflating: raw_data/star-wars/0009/001.jpg  \n",
            "  inflating: raw_data/star-wars/0009/004.jpg  \n",
            "  inflating: raw_data/star-wars/0009/005.jpg  \n",
            "  inflating: raw_data/star-wars/0009/007.jpg  \n",
            "  inflating: raw_data/star-wars/0009/006.jpg  \n",
            "  inflating: raw_data/star-wars/0009/008.jpg  \n",
            "   creating: raw_data/star-wars/0008/\n",
            "  inflating: raw_data/star-wars/0008/002.jpg  \n",
            "  inflating: raw_data/star-wars/0008/003.jpg  \n",
            "  inflating: raw_data/star-wars/0008/001.jpg  \n",
            "  inflating: raw_data/star-wars/0008/004.jpg  \n",
            "  inflating: raw_data/star-wars/0008/005.jpg  \n",
            "  inflating: raw_data/star-wars/0008/007.jpg  \n",
            "  inflating: raw_data/star-wars/0008/006.jpg  \n",
            "  inflating: raw_data/star-wars/0008/008.jpg  \n",
            "   creating: raw_data/star-wars/0001/\n",
            "  inflating: raw_data/star-wars/0001/002.jpg  \n",
            "  inflating: raw_data/star-wars/0001/003.jpg  \n",
            "  inflating: raw_data/star-wars/0001/001.jpg  \n",
            "  inflating: raw_data/star-wars/0001/004.jpg  \n",
            "  inflating: raw_data/star-wars/0001/010.jpg  \n",
            "  inflating: raw_data/star-wars/0001/011.jpg  \n",
            "  inflating: raw_data/star-wars/0001/005.jpg  \n",
            "  inflating: raw_data/star-wars/0001/007.jpg  \n",
            "  inflating: raw_data/star-wars/0001/006.jpg  \n",
            "  inflating: raw_data/star-wars/0001/012.jpg  \n",
            "  inflating: raw_data/star-wars/0001/008.jpg  \n",
            "  inflating: raw_data/star-wars/0001/009.jpg  \n",
            "   creating: raw_data/star-wars/0006/\n",
            "  inflating: raw_data/star-wars/0006/002.jpg  \n",
            "  inflating: raw_data/star-wars/0006/003.jpg  \n",
            "  inflating: raw_data/star-wars/0006/001.jpg  \n",
            "  inflating: raw_data/star-wars/0006/004.jpg  \n",
            "  inflating: raw_data/star-wars/0006/010.jpg  \n",
            "  inflating: raw_data/star-wars/0006/005.jpg  \n",
            "  inflating: raw_data/star-wars/0006/007.jpg  \n",
            "  inflating: raw_data/star-wars/0006/006.jpg  \n",
            "  inflating: raw_data/star-wars/0006/008.jpg  \n",
            "  inflating: raw_data/star-wars/0006/009.jpg  \n",
            "   creating: raw_data/star-wars/0015/\n",
            "  inflating: raw_data/star-wars/0015/002.jpg  \n",
            "  inflating: raw_data/star-wars/0015/003.jpg  \n",
            "  inflating: raw_data/star-wars/0015/001.jpg  \n",
            "  inflating: raw_data/star-wars/0015/004.jpg  \n",
            "  inflating: raw_data/star-wars/0015/010.jpg  \n",
            "  inflating: raw_data/star-wars/0015/005.jpg  \n",
            "  inflating: raw_data/star-wars/0015/007.jpg  \n",
            "  inflating: raw_data/star-wars/0015/006.jpg  \n",
            "  inflating: raw_data/star-wars/0015/008.jpg  \n",
            "  inflating: raw_data/star-wars/0015/009.jpg  \n",
            "   creating: raw_data/star-wars/0012/\n",
            "  inflating: raw_data/star-wars/0012/002.jpg  \n",
            "  inflating: raw_data/star-wars/0012/003.jpg  \n",
            "  inflating: raw_data/star-wars/0012/001.jpg  \n",
            "  inflating: raw_data/star-wars/0012/004.jpg  \n",
            "  inflating: raw_data/star-wars/0012/005.jpg  \n",
            "  inflating: raw_data/star-wars/0012/007.jpg  \n",
            "  inflating: raw_data/star-wars/0012/006.jpg  \n",
            "  inflating: raw_data/star-wars/0012/008.jpg  \n",
            "   creating: raw_data/star-wars/0013/\n",
            "  inflating: raw_data/star-wars/0013/002.jpg  \n",
            "  inflating: raw_data/star-wars/0013/003.jpg  \n",
            "  inflating: raw_data/star-wars/0013/001.jpg  \n",
            "  inflating: raw_data/star-wars/0013/004.jpg  \n",
            "  inflating: raw_data/star-wars/0013/005.jpg  \n",
            "  inflating: raw_data/star-wars/0013/007.jpg  \n",
            "  inflating: raw_data/star-wars/0013/006.jpg  \n",
            "  inflating: raw_data/star-wars/0013/008.jpg  \n",
            "  inflating: raw_data/star-wars/0013/009.jpg  \n",
            "   creating: raw_data/star-wars/0014/\n",
            "  inflating: raw_data/star-wars/0014/002.jpg  \n",
            "  inflating: raw_data/star-wars/0014/003.jpg  \n",
            "  inflating: raw_data/star-wars/0014/001.jpg  \n",
            "  inflating: raw_data/star-wars/0014/004.jpg  \n",
            "  inflating: raw_data/star-wars/0014/005.jpg  \n",
            "  inflating: raw_data/star-wars/0014/007.jpg  \n",
            "  inflating: raw_data/star-wars/0014/006.jpg  \n",
            "  inflating: raw_data/star-wars/0014/008.jpg  \n",
            "  inflating: raw_data/star-wars/0014/009.jpg  \n",
            "   creating: raw_data/marvel/\n",
            "  inflating: raw_data/marvel/.DS_Store  \n",
            "   creating: raw_data/marvel/0003/\n",
            "  inflating: raw_data/marvel/0003/002.jpg  \n",
            "  inflating: raw_data/marvel/0003/003.jpg  \n",
            "  inflating: raw_data/marvel/0003/001.jpg  \n",
            "  inflating: raw_data/marvel/0003/004.jpg  \n",
            "  inflating: raw_data/marvel/0003/010.jpg  \n",
            "  inflating: raw_data/marvel/0003/005.jpg  \n",
            "  inflating: raw_data/marvel/0003/007.jpg  \n",
            "  inflating: raw_data/marvel/0003/006.jpg  \n",
            "  inflating: raw_data/marvel/0003/008.jpg  \n",
            "  inflating: raw_data/marvel/0003/009.jpg  \n",
            "   creating: raw_data/marvel/0004/\n",
            "  inflating: raw_data/marvel/0004/002.jpg  \n",
            "  inflating: raw_data/marvel/0004/003.jpg  \n",
            "  inflating: raw_data/marvel/0004/001.jpg  \n",
            "  inflating: raw_data/marvel/0004/004.jpg  \n",
            "  inflating: raw_data/marvel/0004/010.jpg  \n",
            "  inflating: raw_data/marvel/0004/005.jpg  \n",
            "  inflating: raw_data/marvel/0004/007.jpg  \n",
            "  inflating: raw_data/marvel/0004/006.jpg  \n",
            "  inflating: raw_data/marvel/0004/008.jpg  \n",
            "  inflating: raw_data/marvel/0004/009.jpg  \n",
            "   creating: raw_data/marvel/0005/\n",
            "  inflating: raw_data/marvel/0005/002.jpg  \n",
            "  inflating: raw_data/marvel/0005/003.jpg  \n",
            "  inflating: raw_data/marvel/0005/001.jpg  \n",
            "  inflating: raw_data/marvel/0005/004.jpg  \n",
            "  inflating: raw_data/marvel/0005/005.jpg  \n",
            "  inflating: raw_data/marvel/0005/007.jpg  \n",
            "  inflating: raw_data/marvel/0005/006.jpg  \n",
            "  inflating: raw_data/marvel/0005/008.jpg  \n",
            "  inflating: raw_data/marvel/0005/009.jpg  \n",
            "   creating: raw_data/marvel/0002/\n",
            "  inflating: raw_data/marvel/0002/002.jpg  \n",
            "  inflating: raw_data/marvel/0002/003.jpg  \n",
            "  inflating: raw_data/marvel/0002/001.jpg  \n",
            "  inflating: raw_data/marvel/0002/004.jpg  \n",
            "  inflating: raw_data/marvel/0002/010.jpg  \n",
            "  inflating: raw_data/marvel/0002/005.jpg  \n",
            "  inflating: raw_data/marvel/0002/007.jpg  \n",
            "  inflating: raw_data/marvel/0002/006.jpg  \n",
            "  inflating: raw_data/marvel/0002/008.jpg  \n",
            "  inflating: raw_data/marvel/0002/009.jpg  \n",
            "   creating: raw_data/marvel/0011/\n",
            "  inflating: raw_data/marvel/0011/002.jpg  \n",
            "  inflating: raw_data/marvel/0011/003.jpg  \n",
            "  inflating: raw_data/marvel/0011/001.jpg  \n",
            "  inflating: raw_data/marvel/0011/004.jpg  \n",
            "  inflating: raw_data/marvel/0011/010.jpg  \n",
            "  inflating: raw_data/marvel/0011/011.jpg  \n",
            "  inflating: raw_data/marvel/0011/005.jpg  \n",
            "  inflating: raw_data/marvel/0011/007.jpg  \n",
            "  inflating: raw_data/marvel/0011/006.jpg  \n",
            "  inflating: raw_data/marvel/0011/012.jpg  \n",
            "  inflating: raw_data/marvel/0011/008.jpg  \n",
            "  inflating: raw_data/marvel/0011/009.jpg  \n",
            "   creating: raw_data/marvel/0016/\n",
            "  inflating: raw_data/marvel/0016/002.jpg  \n",
            "  inflating: raw_data/marvel/0016/003.jpg  \n",
            "  inflating: raw_data/marvel/0016/001.jpg  \n",
            "  inflating: raw_data/marvel/0016/004.jpg  \n",
            "  inflating: raw_data/marvel/0016/010.jpg  \n",
            "  inflating: raw_data/marvel/0016/011.jpg  \n",
            "  inflating: raw_data/marvel/0016/005.jpg  \n",
            "  inflating: raw_data/marvel/0016/007.jpg  \n",
            "  inflating: raw_data/marvel/0016/006.jpg  \n",
            "  inflating: raw_data/marvel/0016/012.jpg  \n",
            "  inflating: raw_data/marvel/0016/008.jpg  \n",
            "  inflating: raw_data/marvel/0016/009.jpg  \n",
            "   creating: raw_data/marvel/0017/\n",
            "  inflating: raw_data/marvel/0017/002.jpg  \n",
            "  inflating: raw_data/marvel/0017/003.jpg  \n",
            "  inflating: raw_data/marvel/0017/001.jpg  \n",
            "  inflating: raw_data/marvel/0017/004.jpg  \n",
            "  inflating: raw_data/marvel/0017/010.jpg  \n",
            "  inflating: raw_data/marvel/0017/011.jpg  \n",
            "  inflating: raw_data/marvel/0017/005.jpg  \n",
            "  inflating: raw_data/marvel/0017/007.jpg  \n",
            "  inflating: raw_data/marvel/0017/006.jpg  \n",
            "  inflating: raw_data/marvel/0017/012.jpg  \n",
            "  inflating: raw_data/marvel/0017/008.jpg  \n",
            "  inflating: raw_data/marvel/0017/009.jpg  \n",
            "   creating: raw_data/marvel/0010/\n",
            "  inflating: raw_data/marvel/0010/002.jpg  \n",
            "  inflating: raw_data/marvel/0010/003.jpg  \n",
            "  inflating: raw_data/marvel/0010/001.jpg  \n",
            "  inflating: raw_data/marvel/0010/014.jpg  \n",
            "  inflating: raw_data/marvel/0010/004.jpg  \n",
            "  inflating: raw_data/marvel/0010/010.jpg  \n",
            "  inflating: raw_data/marvel/0010/011.jpg  \n",
            "  inflating: raw_data/marvel/0010/005.jpg  \n",
            "  inflating: raw_data/marvel/0010/013.jpg  \n",
            "  inflating: raw_data/marvel/0010/007.jpg  \n",
            "  inflating: raw_data/marvel/0010/006.jpg  \n",
            "  inflating: raw_data/marvel/0010/012.jpg  \n",
            "  inflating: raw_data/marvel/0010/008.jpg  \n",
            "  inflating: raw_data/marvel/0010/009.jpg  \n",
            "   creating: raw_data/marvel/0007/\n",
            "  inflating: raw_data/marvel/0007/002.jpg  \n",
            "  inflating: raw_data/marvel/0007/003.jpg  \n",
            "  inflating: raw_data/marvel/0007/001.jpg  \n",
            "  inflating: raw_data/marvel/0007/004.jpg  \n",
            "  inflating: raw_data/marvel/0007/005.jpg  \n",
            "  inflating: raw_data/marvel/0007/007.jpg  \n",
            "  inflating: raw_data/marvel/0007/006.jpg  \n",
            "  inflating: raw_data/marvel/0007/008.jpg  \n",
            "  inflating: raw_data/marvel/0007/009.jpg  \n",
            "   creating: raw_data/marvel/0009/\n",
            "  inflating: raw_data/marvel/0009/002.jpg  \n",
            "  inflating: raw_data/marvel/0009/003.jpg  \n",
            "  inflating: raw_data/marvel/0009/001.jpg  \n",
            "  inflating: raw_data/marvel/0009/014.jpg  \n",
            "  inflating: raw_data/marvel/0009/004.jpg  \n",
            "  inflating: raw_data/marvel/0009/010.jpg  \n",
            "  inflating: raw_data/marvel/0009/011.jpg  \n",
            "  inflating: raw_data/marvel/0009/005.jpg  \n",
            "  inflating: raw_data/marvel/0009/013.jpg  \n",
            "  inflating: raw_data/marvel/0009/007.jpg  \n",
            "  inflating: raw_data/marvel/0009/006.jpg  \n",
            "  inflating: raw_data/marvel/0009/012.jpg  \n",
            "  inflating: raw_data/marvel/0009/008.jpg  \n",
            "  inflating: raw_data/marvel/0009/009.jpg  \n",
            "   creating: raw_data/marvel/0008/\n",
            "  inflating: raw_data/marvel/0008/002.jpg  \n",
            "  inflating: raw_data/marvel/0008/003.jpg  \n",
            "  inflating: raw_data/marvel/0008/001.jpg  \n",
            "  inflating: raw_data/marvel/0008/014.jpg  \n",
            "  inflating: raw_data/marvel/0008/004.jpg  \n",
            "  inflating: raw_data/marvel/0008/010.jpg  \n",
            "  inflating: raw_data/marvel/0008/011.jpg  \n",
            "  inflating: raw_data/marvel/0008/005.jpg  \n",
            "  inflating: raw_data/marvel/0008/013.jpg  \n",
            "  inflating: raw_data/marvel/0008/007.jpg  \n",
            "  inflating: raw_data/marvel/0008/006.jpg  \n",
            "  inflating: raw_data/marvel/0008/012.jpg  \n",
            "  inflating: raw_data/marvel/0008/008.jpg  \n",
            "  inflating: raw_data/marvel/0008/009.jpg  \n",
            "   creating: raw_data/marvel/0001/\n",
            "  inflating: raw_data/marvel/0001/002.jpg  \n",
            "  inflating: raw_data/marvel/0001/003.jpg  \n",
            "  inflating: raw_data/marvel/0001/001.jpg  \n",
            "  inflating: raw_data/marvel/0001/004.jpg  \n",
            "  inflating: raw_data/marvel/0001/010.jpg  \n",
            "  inflating: raw_data/marvel/0001/005.jpg  \n",
            "  inflating: raw_data/marvel/0001/007.jpg  \n",
            "  inflating: raw_data/marvel/0001/006.jpg  \n",
            "  inflating: raw_data/marvel/0001/008.jpg  \n",
            "  inflating: raw_data/marvel/0001/009.jpg  \n",
            "   creating: raw_data/marvel/0006/\n",
            "  inflating: raw_data/marvel/0006/002.jpg  \n",
            "  inflating: raw_data/marvel/0006/003.jpg  \n",
            "  inflating: raw_data/marvel/0006/001.jpg  \n",
            "  inflating: raw_data/marvel/0006/004.jpg  \n",
            "  inflating: raw_data/marvel/0006/005.jpg  \n",
            "  inflating: raw_data/marvel/0006/007.jpg  \n",
            "  inflating: raw_data/marvel/0006/006.jpg  \n",
            "  inflating: raw_data/marvel/0006/008.jpg  \n",
            "  inflating: raw_data/marvel/0006/009.jpg  \n",
            "   creating: raw_data/marvel/0015/\n",
            "  inflating: raw_data/marvel/0015/002.jpg  \n",
            "  inflating: raw_data/marvel/0015/003.jpg  \n",
            "  inflating: raw_data/marvel/0015/001.jpg  \n",
            "  inflating: raw_data/marvel/0015/004.jpg  \n",
            "  inflating: raw_data/marvel/0015/010.jpg  \n",
            "  inflating: raw_data/marvel/0015/011.jpg  \n",
            "  inflating: raw_data/marvel/0015/005.jpg  \n",
            "  inflating: raw_data/marvel/0015/007.jpg  \n",
            "  inflating: raw_data/marvel/0015/006.jpg  \n",
            "  inflating: raw_data/marvel/0015/012.jpg  \n",
            "  inflating: raw_data/marvel/0015/008.jpg  \n",
            "  inflating: raw_data/marvel/0015/009.jpg  \n",
            "   creating: raw_data/marvel/0012/\n",
            "  inflating: raw_data/marvel/0012/002.jpg  \n",
            "  inflating: raw_data/marvel/0012/003.jpg  \n",
            "  inflating: raw_data/marvel/0012/001.jpg  \n",
            "  inflating: raw_data/marvel/0012/004.jpg  \n",
            "  inflating: raw_data/marvel/0012/010.jpg  \n",
            "  inflating: raw_data/marvel/0012/011.jpg  \n",
            "  inflating: raw_data/marvel/0012/005.jpg  \n",
            "  inflating: raw_data/marvel/0012/007.jpg  \n",
            "  inflating: raw_data/marvel/0012/006.jpg  \n",
            "  inflating: raw_data/marvel/0012/012.jpg  \n",
            "  inflating: raw_data/marvel/0012/008.jpg  \n",
            "  inflating: raw_data/marvel/0012/009.jpg  \n",
            "   creating: raw_data/marvel/0013/\n",
            "  inflating: raw_data/marvel/0013/002.jpg  \n",
            "  inflating: raw_data/marvel/0013/003.jpg  \n",
            "  inflating: raw_data/marvel/0013/001.jpg  \n",
            "  inflating: raw_data/marvel/0013/004.jpg  \n",
            "  inflating: raw_data/marvel/0013/010.jpg  \n",
            "  inflating: raw_data/marvel/0013/011.jpg  \n",
            "  inflating: raw_data/marvel/0013/005.jpg  \n",
            "  inflating: raw_data/marvel/0013/007.jpg  \n",
            "  inflating: raw_data/marvel/0013/006.jpg  \n",
            "  inflating: raw_data/marvel/0013/012.jpg  \n",
            "  inflating: raw_data/marvel/0013/008.jpg  \n",
            "  inflating: raw_data/marvel/0013/009.jpg  \n",
            "   creating: raw_data/marvel/0014/\n",
            "  inflating: raw_data/marvel/0014/002.jpg  \n",
            "  inflating: raw_data/marvel/0014/003.jpg  \n",
            "  inflating: raw_data/marvel/0014/001.jpg  \n",
            "  inflating: raw_data/marvel/0014/004.jpg  \n",
            "  inflating: raw_data/marvel/0014/010.jpg  \n",
            "  inflating: raw_data/marvel/0014/011.jpg  \n",
            "  inflating: raw_data/marvel/0014/005.jpg  \n",
            "  inflating: raw_data/marvel/0014/007.jpg  \n",
            "  inflating: raw_data/marvel/0014/006.jpg  \n",
            "  inflating: raw_data/marvel/0014/012.jpg  \n",
            "  inflating: raw_data/marvel/0014/008.jpg  \n",
            "  inflating: raw_data/marvel/0014/009.jpg  \n",
            "  inflating: raw_data/metadata.csv   \n",
            "  inflating: raw_data/index.csv      \n"
          ]
        }
      ]
    },
    {
      "cell_type": "code",
      "metadata": {
        "id": "7417e14b"
      },
      "source": [
        "base_path = f\"raw_data\"\n",
        "index = pd.read_csv(f'{base_path}/index.csv')\n",
        "metadata = pd.read_csv(f'{base_path}/metadata.csv')\n",
        "df = pd.merge(index, metadata, on='class_id')"
      ],
      "id": "7417e14b",
      "execution_count": 88,
      "outputs": []
    },
    {
      "cell_type": "code",
      "metadata": {
        "colab": {
          "base_uri": "https://localhost:8080/"
        },
        "id": "75ed0e5a",
        "outputId": "ab423ae2-418d-4f83-a2a6-74451b035a66"
      },
      "source": [
        "df.info()"
      ],
      "id": "75ed0e5a",
      "execution_count": null,
      "outputs": [
        {
          "output_type": "stream",
          "name": "stdout",
          "text": [
            "<class 'pandas.core.frame.DataFrame'>\n",
            "Int64Index: 361 entries, 0 to 360\n",
            "Data columns (total 5 columns):\n",
            " #   Column           Non-Null Count  Dtype \n",
            "---  ------           --------------  ----- \n",
            " 0   path             361 non-null    object\n",
            " 1   class_id         361 non-null    int64 \n",
            " 2   lego_ids         361 non-null    object\n",
            " 3   lego_names       361 non-null    object\n",
            " 4   minifigure_name  361 non-null    object\n",
            "dtypes: int64(1), object(4)\n",
            "memory usage: 16.9+ KB\n"
          ]
        }
      ]
    },
    {
      "cell_type": "code",
      "metadata": {
        "colab": {
          "base_uri": "https://localhost:8080/",
          "height": 35
        },
        "id": "IMM3-VNoYrC_",
        "outputId": "56c66211-e5e1-4329-93c0-5748283fb7fa"
      },
      "source": [
        "pwd"
      ],
      "id": "IMM3-VNoYrC_",
      "execution_count": null,
      "outputs": [
        {
          "output_type": "execute_result",
          "data": {
            "application/vnd.google.colaboratory.intrinsic+json": {
              "type": "string"
            },
            "text/plain": [
              "'/content'"
            ]
          },
          "metadata": {},
          "execution_count": 17
        }
      ]
    },
    {
      "cell_type": "code",
      "metadata": {
        "colab": {
          "base_uri": "https://localhost:8080/",
          "height": 286
        },
        "id": "x3Gnt-z2YOyb",
        "outputId": "576d443b-9118-437d-8c68-a5785748c72a"
      },
      "source": [
        "image = cv2.imread('/content/raw_data/harry-potter/0002/009.jpg')\n",
        "image = cv2.resize(image, (512,512))\n",
        "image = cv2.cvtColor(image, cv2.COLOR_BGR2RGB) / 255.0\n",
        "\n",
        "plt.imshow(image)"
      ],
      "id": "x3Gnt-z2YOyb",
      "execution_count": null,
      "outputs": [
        {
          "output_type": "execute_result",
          "data": {
            "text/plain": [
              "<matplotlib.image.AxesImage at 0x7f1e7e0d9590>"
            ]
          },
          "metadata": {},
          "execution_count": 22
        },
        {
          "output_type": "display_data",
          "data": {
            "image/png": "[encoded data removed]",
            "text/plain": [
              "<Figure size 432x288 with 1 Axes>"
            ]
          },
          "metadata": {
            "needs_background": "light"
          }
        }
      ]
    },
    {
      "cell_type": "code",
      "metadata": {
        "colab": {
          "base_uri": "https://localhost:8080/",
          "height": 206
        },
        "id": "hxECE-JLbH4K",
        "outputId": "a78376d2-4e42-42b9-e5f6-ab2c1f1448c0"
      },
      "source": [
        "index.head()"
      ],
      "id": "hxECE-JLbH4K",
      "execution_count": null,
      "outputs": [
        {
          "output_type": "execute_result",
          "data": {
            "text/html": [
              "<div>\n",
              "<style scoped>\n",
              "    .dataframe tbody tr th:only-of-type {\n",
              "        vertical-align: middle;\n",
              "    }\n",
              "\n",
              "    .dataframe tbody tr th {\n",
              "        vertical-align: top;\n",
              "    }\n",
              "\n",
              "    .dataframe thead th {\n",
              "        text-align: right;\n",
              "    }\n",
              "</style>\n",
              "<table border=\"1\" class=\"dataframe\">\n",
              "  <thead>\n",
              "    <tr style=\"text-align: right;\">\n",
              "      <th></th>\n",
              "      <th>path</th>\n",
              "      <th>class_id</th>\n",
              "    </tr>\n",
              "  </thead>\n",
              "  <tbody>\n",
              "    <tr>\n",
              "      <th>0</th>\n",
              "      <td>marvel/0001/001.jpg</td>\n",
              "      <td>1</td>\n",
              "    </tr>\n",
              "    <tr>\n",
              "      <th>1</th>\n",
              "      <td>marvel/0001/002.jpg</td>\n",
              "      <td>1</td>\n",
              "    </tr>\n",
              "    <tr>\n",
              "      <th>2</th>\n",
              "      <td>marvel/0001/003.jpg</td>\n",
              "      <td>1</td>\n",
              "    </tr>\n",
              "    <tr>\n",
              "      <th>3</th>\n",
              "      <td>marvel/0001/004.jpg</td>\n",
              "      <td>1</td>\n",
              "    </tr>\n",
              "    <tr>\n",
              "      <th>4</th>\n",
              "      <td>marvel/0001/005.jpg</td>\n",
              "      <td>1</td>\n",
              "    </tr>\n",
              "  </tbody>\n",
              "</table>\n",
              "</div>"
            ],
            "text/plain": [
              "                  path  class_id\n",
              "0  marvel/0001/001.jpg         1\n",
              "1  marvel/0001/002.jpg         1\n",
              "2  marvel/0001/003.jpg         1\n",
              "3  marvel/0001/004.jpg         1\n",
              "4  marvel/0001/005.jpg         1"
            ]
          },
          "metadata": {},
          "execution_count": 26
        }
      ]
    },
    {
      "cell_type": "code",
      "metadata": {
        "colab": {
          "base_uri": "https://localhost:8080/",
          "height": 206
        },
        "id": "uL809gDMbNtC",
        "outputId": "1871c15c-8b11-4eaa-d7bb-6f688ae313ec"
      },
      "source": [
        "metadata.head()"
      ],
      "id": "uL809gDMbNtC",
      "execution_count": null,
      "outputs": [
        {
          "output_type": "execute_result",
          "data": {
            "text/html": [
              "<div>\n",
              "<style scoped>\n",
              "    .dataframe tbody tr th:only-of-type {\n",
              "        vertical-align: middle;\n",
              "    }\n",
              "\n",
              "    .dataframe tbody tr th {\n",
              "        vertical-align: top;\n",
              "    }\n",
              "\n",
              "    .dataframe thead th {\n",
              "        text-align: right;\n",
              "    }\n",
              "</style>\n",
              "<table border=\"1\" class=\"dataframe\">\n",
              "  <thead>\n",
              "    <tr style=\"text-align: right;\">\n",
              "      <th></th>\n",
              "      <th>class_id</th>\n",
              "      <th>lego_ids</th>\n",
              "      <th>lego_names</th>\n",
              "      <th>minifigure_name</th>\n",
              "    </tr>\n",
              "  </thead>\n",
              "  <tbody>\n",
              "    <tr>\n",
              "      <th>0</th>\n",
              "      <td>1</td>\n",
              "      <td>[76115]</td>\n",
              "      <td>['Spider Mech vs. Venom']</td>\n",
              "      <td>SPIDER-MAN</td>\n",
              "    </tr>\n",
              "    <tr>\n",
              "      <th>1</th>\n",
              "      <td>2</td>\n",
              "      <td>[76115]</td>\n",
              "      <td>['Spider Mech vs. Venom']</td>\n",
              "      <td>VENOM</td>\n",
              "    </tr>\n",
              "    <tr>\n",
              "      <th>2</th>\n",
              "      <td>3</td>\n",
              "      <td>[76115]</td>\n",
              "      <td>['Spider Mech vs. Venom']</td>\n",
              "      <td>AUNT MAY</td>\n",
              "    </tr>\n",
              "    <tr>\n",
              "      <th>3</th>\n",
              "      <td>4</td>\n",
              "      <td>[76115]</td>\n",
              "      <td>['Spider Mech vs. Venom']</td>\n",
              "      <td>GHOST SPIDER</td>\n",
              "    </tr>\n",
              "    <tr>\n",
              "      <th>4</th>\n",
              "      <td>5</td>\n",
              "      <td>[75208]</td>\n",
              "      <td>[\"Yoda's Hut\"]</td>\n",
              "      <td>YODA</td>\n",
              "    </tr>\n",
              "  </tbody>\n",
              "</table>\n",
              "</div>"
            ],
            "text/plain": [
              "   class_id lego_ids                 lego_names minifigure_name\n",
              "0         1  [76115]  ['Spider Mech vs. Venom']      SPIDER-MAN\n",
              "1         2  [76115]  ['Spider Mech vs. Venom']           VENOM\n",
              "2         3  [76115]  ['Spider Mech vs. Venom']        AUNT MAY\n",
              "3         4  [76115]  ['Spider Mech vs. Venom']    GHOST SPIDER\n",
              "4         5  [75208]             [\"Yoda's Hut\"]            YODA"
            ]
          },
          "metadata": {},
          "execution_count": 25
        }
      ]
    },
    {
      "cell_type": "code",
      "metadata": {
        "colab": {
          "base_uri": "https://localhost:8080/",
          "height": 424
        },
        "id": "QyNOZY5XbZV2",
        "outputId": "a643d594-b103-46b0-d75b-53b06754d235"
      },
      "source": [
        "df = pd.merge(index, metadata[['class_id', 'minifigure_name']], on='class_id')\n",
        "df"
      ],
      "id": "QyNOZY5XbZV2",
      "execution_count": null,
      "outputs": [
        {
          "output_type": "execute_result",
          "data": {
            "text/html": [
              "<div>\n",
              "<style scoped>\n",
              "    .dataframe tbody tr th:only-of-type {\n",
              "        vertical-align: middle;\n",
              "    }\n",
              "\n",
              "    .dataframe tbody tr th {\n",
              "        vertical-align: top;\n",
              "    }\n",
              "\n",
              "    .dataframe thead th {\n",
              "        text-align: right;\n",
              "    }\n",
              "</style>\n",
              "<table border=\"1\" class=\"dataframe\">\n",
              "  <thead>\n",
              "    <tr style=\"text-align: right;\">\n",
              "      <th></th>\n",
              "      <th>path</th>\n",
              "      <th>class_id</th>\n",
              "      <th>minifigure_name</th>\n",
              "    </tr>\n",
              "  </thead>\n",
              "  <tbody>\n",
              "    <tr>\n",
              "      <th>0</th>\n",
              "      <td>marvel/0001/001.jpg</td>\n",
              "      <td>1</td>\n",
              "      <td>SPIDER-MAN</td>\n",
              "    </tr>\n",
              "    <tr>\n",
              "      <th>1</th>\n",
              "      <td>marvel/0001/002.jpg</td>\n",
              "      <td>1</td>\n",
              "      <td>SPIDER-MAN</td>\n",
              "    </tr>\n",
              "    <tr>\n",
              "      <th>2</th>\n",
              "      <td>marvel/0001/003.jpg</td>\n",
              "      <td>1</td>\n",
              "      <td>SPIDER-MAN</td>\n",
              "    </tr>\n",
              "    <tr>\n",
              "      <th>3</th>\n",
              "      <td>marvel/0001/004.jpg</td>\n",
              "      <td>1</td>\n",
              "      <td>SPIDER-MAN</td>\n",
              "    </tr>\n",
              "    <tr>\n",
              "      <th>4</th>\n",
              "      <td>marvel/0001/005.jpg</td>\n",
              "      <td>1</td>\n",
              "      <td>SPIDER-MAN</td>\n",
              "    </tr>\n",
              "    <tr>\n",
              "      <th>...</th>\n",
              "      <td>...</td>\n",
              "      <td>...</td>\n",
              "      <td>...</td>\n",
              "    </tr>\n",
              "    <tr>\n",
              "      <th>356</th>\n",
              "      <td>star-wars/0016/005.jpg</td>\n",
              "      <td>37</td>\n",
              "      <td>OBI-WAN KENOBI</td>\n",
              "    </tr>\n",
              "    <tr>\n",
              "      <th>357</th>\n",
              "      <td>star-wars/0016/006.jpg</td>\n",
              "      <td>37</td>\n",
              "      <td>OBI-WAN KENOBI</td>\n",
              "    </tr>\n",
              "    <tr>\n",
              "      <th>358</th>\n",
              "      <td>star-wars/0016/007.jpg</td>\n",
              "      <td>37</td>\n",
              "      <td>OBI-WAN KENOBI</td>\n",
              "    </tr>\n",
              "    <tr>\n",
              "      <th>359</th>\n",
              "      <td>star-wars/0016/008.jpg</td>\n",
              "      <td>37</td>\n",
              "      <td>OBI-WAN KENOBI</td>\n",
              "    </tr>\n",
              "    <tr>\n",
              "      <th>360</th>\n",
              "      <td>star-wars/0016/009.jpg</td>\n",
              "      <td>37</td>\n",
              "      <td>OBI-WAN KENOBI</td>\n",
              "    </tr>\n",
              "  </tbody>\n",
              "</table>\n",
              "<p>361 rows × 3 columns</p>\n",
              "</div>"
            ],
            "text/plain": [
              "                       path  class_id minifigure_name\n",
              "0       marvel/0001/001.jpg         1      SPIDER-MAN\n",
              "1       marvel/0001/002.jpg         1      SPIDER-MAN\n",
              "2       marvel/0001/003.jpg         1      SPIDER-MAN\n",
              "3       marvel/0001/004.jpg         1      SPIDER-MAN\n",
              "4       marvel/0001/005.jpg         1      SPIDER-MAN\n",
              "..                      ...       ...             ...\n",
              "356  star-wars/0016/005.jpg        37  OBI-WAN KENOBI\n",
              "357  star-wars/0016/006.jpg        37  OBI-WAN KENOBI\n",
              "358  star-wars/0016/007.jpg        37  OBI-WAN KENOBI\n",
              "359  star-wars/0016/008.jpg        37  OBI-WAN KENOBI\n",
              "360  star-wars/0016/009.jpg        37  OBI-WAN KENOBI\n",
              "\n",
              "[361 rows x 3 columns]"
            ]
          },
          "metadata": {},
          "execution_count": 27
        }
      ]
    },
    {
      "cell_type": "code",
      "metadata": {
        "colab": {
          "base_uri": "https://localhost:8080/"
        },
        "id": "WmEbjxDmbjPd",
        "outputId": "ac349fe5-064a-41a0-87da-2cee859b916d"
      },
      "source": [
        "df.info()"
      ],
      "id": "WmEbjxDmbjPd",
      "execution_count": null,
      "outputs": [
        {
          "output_type": "stream",
          "name": "stdout",
          "text": [
            "<class 'pandas.core.frame.DataFrame'>\n",
            "Int64Index: 361 entries, 0 to 360\n",
            "Data columns (total 3 columns):\n",
            " #   Column           Non-Null Count  Dtype \n",
            "---  ------           --------------  ----- \n",
            " 0   path             361 non-null    object\n",
            " 1   class_id         361 non-null    int64 \n",
            " 2   minifigure_name  361 non-null    object\n",
            "dtypes: int64(1), object(2)\n",
            "memory usage: 11.3+ KB\n"
          ]
        }
      ]
    },
    {
      "cell_type": "code",
      "metadata": {
        "colab": {
          "base_uri": "https://localhost:8080/"
        },
        "id": "FTuik-qpbkeV",
        "outputId": "1d5cbba5-3b35-45a0-bff0-76ba74acf06e"
      },
      "source": [
        "print(\"Missing Data:\",df.isnull().any().any())\n",
        "df.isnull().sum()"
      ],
      "id": "FTuik-qpbkeV",
      "execution_count": null,
      "outputs": [
        {
          "output_type": "stream",
          "name": "stdout",
          "text": [
            "Missing Data: False\n"
          ]
        },
        {
          "output_type": "execute_result",
          "data": {
            "text/plain": [
              "path               0\n",
              "class_id           0\n",
              "minifigure_name    0\n",
              "dtype: int64"
            ]
          },
          "metadata": {},
          "execution_count": 29
        }
      ]
    },
    {
      "cell_type": "code",
      "metadata": {
        "id": "DQsDT6Btbn9P"
      },
      "source": [
        "labels = df['minifigure_name'].unique()\n",
        "count = df['minifigure_name'].value_counts()"
      ],
      "id": "DQsDT6Btbn9P",
      "execution_count": null,
      "outputs": []
    },
    {
      "cell_type": "code",
      "metadata": {
        "colab": {
          "base_uri": "https://localhost:8080/"
        },
        "id": "ycacO1zbbrRi",
        "outputId": "7459cbd8-82e4-4d3f-b7a9-29957fe3bef9"
      },
      "source": [
        "count"
      ],
      "id": "ycacO1zbbrRi",
      "execution_count": null,
      "outputs": [
        {
          "output_type": "execute_result",
          "data": {
            "text/plain": [
              "SPIDER-MAN                     18\n",
              "R2-D2                          12\n",
              "GENERAL GRIEVOUS               12\n",
              "TRACKER TRAQUEUR RASTREADOR    12\n",
              "LUKE SKYWALKER                 12\n",
              "YODA                           12\n",
              "OWEN GRADY                     12\n",
              "TASKMASTER                     11\n",
              "MACE WINDU                     11\n",
              "HARRY POTTER                   11\n",
              "BLACK WIDOW                    11\n",
              "RON WEASLEY                    11\n",
              "YELENA BELOVA                  11\n",
              "VENOM                          10\n",
              "EMPEROR PALPATINE              10\n",
              "IRON MAN MK 41                 10\n",
              "AUNT MAY                       10\n",
              "CAPTAIN AMERICA                10\n",
              "IRON MAN MK 50                 10\n",
              "GHOST SPIDER                   10\n",
              "IRON MAN MK 5                  10\n",
              "OUTRIDER 1                     10\n",
              "IRON MAN MK 1                  10\n",
              "OUTRIDER 2                     10\n",
              "OBI-WAN KENOBI                  9\n",
              "ANAKIN SKYWALKER                9\n",
              "DARTH VADER                     9\n",
              "JANNAH                          8\n",
              "HAN SOLO                        8\n",
              "KYLO REN                        8\n",
              "MYSTERIO                        8\n",
              "FIREFIGHTER                     8\n",
              "KLATOOINIAN RAIDER 2            7\n",
              "CARA DUNE                       7\n",
              "KLATOOINIAN RAIDER 1            7\n",
              "THE MANDALORIAN                 7\n",
              "Name: minifigure_name, dtype: int64"
            ]
          },
          "metadata": {},
          "execution_count": 31
        }
      ]
    },
    {
      "cell_type": "code",
      "metadata": {
        "colab": {
          "base_uri": "https://localhost:8080/",
          "height": 786
        },
        "id": "Uc75Kd7mbt8m",
        "outputId": "e9f5b243-46e7-4a33-979b-cb0354a1980a"
      },
      "source": [
        "import seaborn as sns\n",
        "\n",
        "plt.figure(figsize=(12,10))\n",
        "sns.barplot(x=labels, y=count,palette=\"rocket\")\n",
        "\n",
        "plt.xticks(rotation= 90)\n",
        "plt.xlabel('Labels')\n",
        "plt.ylabel('Count')\n",
        "plt.title('Dataset Analysis')\n",
        "plt.show()"
      ],
      "id": "Uc75Kd7mbt8m",
      "execution_count": null,
      "outputs": [
        {
          "output_type": "display_data",
          "data": {
            "image/png": "[encoded data removed]",
            "text/plain": [
              "<Figure size 864x720 with 1 Axes>"
            ]
          },
          "metadata": {
            "needs_background": "light"
          }
        }
      ]
    },
    {
      "cell_type": "code",
      "metadata": {
        "id": "w0T69DEegUKt"
      },
      "source": [
        "def discriminator(images, reuse_variables=None):\n",
        "    with tf.variable_scope(tf.get_variable_scope(), reuse=reuse_variables) as scope:\n",
        "        # First convolutional and pool layers\n",
        "        # This finds 32 different 5 x 5 pixel features\n",
        "        d_w1 = tf.get_variable('d_w1', [5, 5, 1, 32], initializer=tf.truncated_normal_initializer(stddev=0.02))\n",
        "        d_b1 = tf.get_variable('d_b1', [32], initializer=tf.constant_initializer(0))\n",
        "        d1 = tf.nn.conv2d(input=images, filter=d_w1, strides=[1, 1, 1, 1], padding='SAME')\n",
        "        d1 = d1 + d_b1\n",
        "        d1 = tf.nn.relu(d1)\n",
        "        d1 = tf.nn.avg_pool(d1, ksize=[1, 2, 2, 1], strides=[1, 2, 2, 1], padding='SAME')\n",
        "\n",
        "        # Second convolutional and pool layers\n",
        "        # This finds 64 different 5 x 5 pixel features\n",
        "        d_w2 = tf.get_variable('d_w2', [5, 5, 32, 64], initializer=tf.truncated_normal_initializer(stddev=0.02))\n",
        "        d_b2 = tf.get_variable('d_b2', [64], initializer=tf.constant_initializer(0))\n",
        "        d2 = tf.nn.conv2d(input=d1, filter=d_w2, strides=[1, 1, 1, 1], padding='SAME')\n",
        "        d2 = d2 + d_b2\n",
        "        d2 = tf.nn.relu(d2)\n",
        "        d2 = tf.nn.avg_pool(d2, ksize=[1, 2, 2, 1], strides=[1, 2, 2, 1], padding='SAME')\n",
        "\n",
        "        # First fully connected layer\n",
        "        d_w3 = tf.get_variable('d_w3', [7 * 7 * 64, 1024], initializer=tf.truncated_normal_initializer(stddev=0.02))\n",
        "        d_b3 = tf.get_variable('d_b3', [1024], initializer=tf.constant_initializer(0))\n",
        "        d3 = tf.reshape(d2, [-1, 7 * 7 * 64])\n",
        "        d3 = tf.matmul(d3, d_w3)\n",
        "        d3 = d3 + d_b3\n",
        "        d3 = tf.nn.relu(d3)\n",
        "\n",
        "        # Second fully connected layer\n",
        "        d_w4 = tf.get_variable('d_w4', [1024, 1], initializer=tf.truncated_normal_initializer(stddev=0.02))\n",
        "        d_b4 = tf.get_variable('d_b4', [1], initializer=tf.constant_initializer(0))\n",
        "        d4 = tf.matmul(d3, d_w4) + d_b4\n",
        "\n",
        "        # d4 contains unscaled values\n",
        "        return d4"
      ],
      "id": "w0T69DEegUKt",
      "execution_count": null,
      "outputs": []
    },
    {
      "cell_type": "code",
      "metadata": {
        "id": "Cw2gsNJlxmvN"
      },
      "source": [
        "def generator(z, batch_size, z_dim):\n",
        "    g_w1 = get_variable('g_w1', [z_dim, 3136], dtype=tf.float32, initializer=truncated_normal_initializer(stddev=0.02))\n",
        "    g_b1 = get_variable('g_b1', [3136], initializer=truncated_normal_initializer(stddev=0.02))\n",
        "    g1 = tf.matmul(z, g_w1) + g_b1\n",
        "    g1 = tf.reshape(g1, [-1, 56, 56, 1])\n",
        "    g1 = tf.nn.batch_normalization(g1, variance_epsilon=1e-5)\n",
        "    g1 = tf.nn.relu(g1)\n",
        "\n",
        "    # Generate 50 features\n",
        "    g_w2 = get_variable('g_w2', [3, 3, 1, z_dim/2], dtype=tf.float32, initializer=truncated_normal_initializer(stddev=0.02))\n",
        "    g_b2 = get_variable('g_b2', [z_dim/2], initializer=truncated_normal_initializer(stddev=0.02))\n",
        "    g2 = tf.nn.conv2d(g1, g_w2, strides=[1, 2, 2, 1], padding='SAME')\n",
        "    g2 = g2 + g_b2\n",
        "    g2 = tf.nn.batch_normalization(g2, variance_epsilon=1e-5)\n",
        "    g2 = tf.nn.relu(g2)\n",
        "    g2 = tf.image.resize_images(g2, [56, 56])\n",
        "\n",
        "    # Generate 25 features\n",
        "    g_w3 = get_variable('g_w3', [3, 3, z_dim/2, z_dim/4], dtype=tf.float32, initializer=truncated_normal_initializer(stddev=0.02))\n",
        "    g_b3 = get_variable('g_b3', [z_dim/4], initializer=truncated_normal_initializer(stddev=0.02))\n",
        "    g3 = tf.nn.conv2d(g2, g_w3, strides=[1, 2, 2, 1], padding='SAME')\n",
        "    g3 = g3 + g_b3\n",
        "    g3 = tf.nn.batch_normalization(g3, variance_epsilon=1e-5)\n",
        "    g3 = tf.nn.relu(g3)\n",
        "    g3 = tf.image.resize_images(g3, [56, 56])\n",
        "\n",
        "    # Final convolution with one output channel\n",
        "    g_w4 = get_variable('g_w4', [1, 1, z_dim/4, 1], dtype=tf.float32, initializer=tf.truncated_normal_initializer(stddev=0.02))\n",
        "    g_b4 = get_variable('g_b4', [1], initializer=tf.truncated_normal_initializer(stddev=0.02))\n",
        "    g4 = tf.nn.conv2d(g3, g_w4, strides=[1, 2, 2, 1], padding='SAME')\n",
        "    g4 = g4 + g_b4\n",
        "    g4 = tf.sigmoid(g4)\n",
        "    \n",
        "    # Dimensions of g4: batch_size x 28 x 28 x 1\n",
        "    return g4"
      ],
      "id": "Cw2gsNJlxmvN",
      "execution_count": null,
      "outputs": []
    },
    {
      "cell_type": "code",
      "metadata": {
        "id": "212cUhNLxqmE"
      },
      "source": [
        "##Generating a sample image"
      ],
      "id": "212cUhNLxqmE",
      "execution_count": null,
      "outputs": []
    },
    {
      "cell_type": "code",
      "metadata": {
        "colab": {
          "base_uri": "https://localhost:8080/",
          "height": 381
        },
        "id": "2IaT16OGxv1P",
        "outputId": "4eac8232-2f62-4e70-a602-68da3fb120d3"
      },
      "source": [
        "with Session() as sess:\n",
        "  z_dim = 100\n",
        "  z = placeholder(tf.float32, [None, z_dim])\n",
        "  generated_image_output = generator(z, 1, z_dim)\n",
        "  z_batch = np.random.normal(0, 1, [1, z_dim])\n",
        "  sess.run(tf.global_variables_initializer())\n",
        "  generated_image = sess.run(generated_image_output,\n",
        "                                feed_dict={z: z_batch})\n",
        "  generated_image = generated_image.reshape([28, 28])\n",
        "  plt.imshow(generated_image, cmap='Greys')"
      ],
      "id": "2IaT16OGxv1P",
      "execution_count": 89,
      "outputs": [
        {
          "output_type": "error",
          "ename": "TypeError",
          "evalue": "ignored",
          "traceback": [
            "\u001b[0;31m---------------------------------------------------------------------------\u001b[0m",
            "\u001b[0;31mTypeError\u001b[0m                                 Traceback (most recent call last)",
            "\u001b[0;32m<ipython-input-89-ab22ba81756a>\u001b[0m in \u001b[0;36m<module>\u001b[0;34m()\u001b[0m\n\u001b[1;32m      2\u001b[0m   \u001b[0mz_dim\u001b[0m \u001b[0;34m=\u001b[0m \u001b[0;36m100\u001b[0m\u001b[0;34m\u001b[0m\u001b[0;34m\u001b[0m\u001b[0m\n\u001b[1;32m      3\u001b[0m   \u001b[0mz\u001b[0m \u001b[0;34m=\u001b[0m \u001b[0mplaceholder\u001b[0m\u001b[0;34m(\u001b[0m\u001b[0mtf\u001b[0m\u001b[0;34m.\u001b[0m\u001b[0mfloat32\u001b[0m\u001b[0;34m,\u001b[0m \u001b[0;34m[\u001b[0m\u001b[0;32mNone\u001b[0m\u001b[0;34m,\u001b[0m \u001b[0mz_dim\u001b[0m\u001b[0;34m]\u001b[0m\u001b[0;34m)\u001b[0m\u001b[0;34m\u001b[0m\u001b[0;34m\u001b[0m\u001b[0m\n\u001b[0;32m----> 4\u001b[0;31m   \u001b[0mgenerated_image_output\u001b[0m \u001b[0;34m=\u001b[0m \u001b[0mgenerator\u001b[0m\u001b[0;34m(\u001b[0m\u001b[0mz\u001b[0m\u001b[0;34m,\u001b[0m \u001b[0;36m1\u001b[0m\u001b[0;34m,\u001b[0m \u001b[0mz_dim\u001b[0m\u001b[0;34m)\u001b[0m\u001b[0;34m\u001b[0m\u001b[0;34m\u001b[0m\u001b[0m\n\u001b[0m\u001b[1;32m      5\u001b[0m   \u001b[0mz_batch\u001b[0m \u001b[0;34m=\u001b[0m \u001b[0mnp\u001b[0m\u001b[0;34m.\u001b[0m\u001b[0mrandom\u001b[0m\u001b[0;34m.\u001b[0m\u001b[0mnormal\u001b[0m\u001b[0;34m(\u001b[0m\u001b[0;36m0\u001b[0m\u001b[0;34m,\u001b[0m \u001b[0;36m1\u001b[0m\u001b[0;34m,\u001b[0m \u001b[0;34m[\u001b[0m\u001b[0;36m1\u001b[0m\u001b[0;34m,\u001b[0m \u001b[0mz_dim\u001b[0m\u001b[0;34m]\u001b[0m\u001b[0;34m)\u001b[0m\u001b[0;34m\u001b[0m\u001b[0;34m\u001b[0m\u001b[0m\n\u001b[1;32m      6\u001b[0m   \u001b[0msess\u001b[0m\u001b[0;34m.\u001b[0m\u001b[0mrun\u001b[0m\u001b[0;34m(\u001b[0m\u001b[0mtf\u001b[0m\u001b[0;34m.\u001b[0m\u001b[0mglobal_variables_initializer\u001b[0m\u001b[0;34m(\u001b[0m\u001b[0;34m)\u001b[0m\u001b[0;34m)\u001b[0m\u001b[0;34m\u001b[0m\u001b[0;34m\u001b[0m\u001b[0m\n",
            "\u001b[0;32m<ipython-input-80-b218bd11eea6>\u001b[0m in \u001b[0;36mgenerator\u001b[0;34m(z, batch_size, z_dim)\u001b[0m\n\u001b[1;32m      4\u001b[0m     \u001b[0mg1\u001b[0m \u001b[0;34m=\u001b[0m \u001b[0mtf\u001b[0m\u001b[0;34m.\u001b[0m\u001b[0mmatmul\u001b[0m\u001b[0;34m(\u001b[0m\u001b[0mz\u001b[0m\u001b[0;34m,\u001b[0m \u001b[0mg_w1\u001b[0m\u001b[0;34m)\u001b[0m \u001b[0;34m+\u001b[0m \u001b[0mg_b1\u001b[0m\u001b[0;34m\u001b[0m\u001b[0;34m\u001b[0m\u001b[0m\n\u001b[1;32m      5\u001b[0m     \u001b[0mg1\u001b[0m \u001b[0;34m=\u001b[0m \u001b[0mtf\u001b[0m\u001b[0;34m.\u001b[0m\u001b[0mreshape\u001b[0m\u001b[0;34m(\u001b[0m\u001b[0mg1\u001b[0m\u001b[0;34m,\u001b[0m \u001b[0;34m[\u001b[0m\u001b[0;34m-\u001b[0m\u001b[0;36m1\u001b[0m\u001b[0;34m,\u001b[0m \u001b[0;36m56\u001b[0m\u001b[0;34m,\u001b[0m \u001b[0;36m56\u001b[0m\u001b[0;34m,\u001b[0m \u001b[0;36m1\u001b[0m\u001b[0;34m]\u001b[0m\u001b[0;34m)\u001b[0m\u001b[0;34m\u001b[0m\u001b[0;34m\u001b[0m\u001b[0m\n\u001b[0;32m----> 6\u001b[0;31m     \u001b[0mg1\u001b[0m \u001b[0;34m=\u001b[0m \u001b[0mtf\u001b[0m\u001b[0;34m.\u001b[0m\u001b[0mnn\u001b[0m\u001b[0;34m.\u001b[0m\u001b[0mbatch_normalization\u001b[0m\u001b[0;34m(\u001b[0m\u001b[0mg1\u001b[0m\u001b[0;34m,\u001b[0m \u001b[0mvariance_epsilon\u001b[0m\u001b[0;34m=\u001b[0m\u001b[0;36m1e-5\u001b[0m\u001b[0;34m)\u001b[0m\u001b[0;34m\u001b[0m\u001b[0;34m\u001b[0m\u001b[0m\n\u001b[0m\u001b[1;32m      7\u001b[0m     \u001b[0mg1\u001b[0m \u001b[0;34m=\u001b[0m \u001b[0mtf\u001b[0m\u001b[0;34m.\u001b[0m\u001b[0mnn\u001b[0m\u001b[0;34m.\u001b[0m\u001b[0mrelu\u001b[0m\u001b[0;34m(\u001b[0m\u001b[0mg1\u001b[0m\u001b[0;34m)\u001b[0m\u001b[0;34m\u001b[0m\u001b[0;34m\u001b[0m\u001b[0m\n\u001b[1;32m      8\u001b[0m \u001b[0;34m\u001b[0m\u001b[0m\n",
            "\u001b[0;32m/usr/local/lib/python3.7/dist-packages/tensorflow/python/util/traceback_utils.py\u001b[0m in \u001b[0;36merror_handler\u001b[0;34m(*args, **kwargs)\u001b[0m\n\u001b[1;32m    151\u001b[0m     \u001b[0;32mexcept\u001b[0m \u001b[0mException\u001b[0m \u001b[0;32mas\u001b[0m \u001b[0me\u001b[0m\u001b[0;34m:\u001b[0m\u001b[0;34m\u001b[0m\u001b[0;34m\u001b[0m\u001b[0m\n\u001b[1;32m    152\u001b[0m       \u001b[0mfiltered_tb\u001b[0m \u001b[0;34m=\u001b[0m \u001b[0m_process_traceback_frames\u001b[0m\u001b[0;34m(\u001b[0m\u001b[0me\u001b[0m\u001b[0;34m.\u001b[0m\u001b[0m__traceback__\u001b[0m\u001b[0;34m)\u001b[0m\u001b[0;34m\u001b[0m\u001b[0;34m\u001b[0m\u001b[0m\n\u001b[0;32m--> 153\u001b[0;31m       \u001b[0;32mraise\u001b[0m \u001b[0me\u001b[0m\u001b[0;34m.\u001b[0m\u001b[0mwith_traceback\u001b[0m\u001b[0;34m(\u001b[0m\u001b[0mfiltered_tb\u001b[0m\u001b[0;34m)\u001b[0m \u001b[0;32mfrom\u001b[0m \u001b[0;32mNone\u001b[0m\u001b[0;34m\u001b[0m\u001b[0;34m\u001b[0m\u001b[0m\n\u001b[0m\u001b[1;32m    154\u001b[0m     \u001b[0;32mfinally\u001b[0m\u001b[0;34m:\u001b[0m\u001b[0;34m\u001b[0m\u001b[0;34m\u001b[0m\u001b[0m\n\u001b[1;32m    155\u001b[0m       \u001b[0;32mdel\u001b[0m \u001b[0mfiltered_tb\u001b[0m\u001b[0;34m\u001b[0m\u001b[0;34m\u001b[0m\u001b[0m\n",
            "\u001b[0;32m/usr/local/lib/python3.7/dist-packages/tensorflow/python/util/dispatch.py\u001b[0m in \u001b[0;36mop_dispatch_handler\u001b[0;34m(*args, **kwargs)\u001b[0m\n\u001b[1;32m   1088\u001b[0m         \u001b[0;32mif\u001b[0m \u001b[0miterable_params\u001b[0m \u001b[0;32mis\u001b[0m \u001b[0;32mnot\u001b[0m \u001b[0;32mNone\u001b[0m\u001b[0;34m:\u001b[0m\u001b[0;34m\u001b[0m\u001b[0;34m\u001b[0m\u001b[0m\n\u001b[1;32m   1089\u001b[0m           \u001b[0margs\u001b[0m\u001b[0;34m,\u001b[0m \u001b[0mkwargs\u001b[0m \u001b[0;34m=\u001b[0m \u001b[0mreplace_iterable_params\u001b[0m\u001b[0;34m(\u001b[0m\u001b[0margs\u001b[0m\u001b[0;34m,\u001b[0m \u001b[0mkwargs\u001b[0m\u001b[0;34m,\u001b[0m \u001b[0miterable_params\u001b[0m\u001b[0;34m)\u001b[0m\u001b[0;34m\u001b[0m\u001b[0;34m\u001b[0m\u001b[0m\n\u001b[0;32m-> 1090\u001b[0;31m         \u001b[0mresult\u001b[0m \u001b[0;34m=\u001b[0m \u001b[0mapi_dispatcher\u001b[0m\u001b[0;34m.\u001b[0m\u001b[0mDispatch\u001b[0m\u001b[0;34m(\u001b[0m\u001b[0margs\u001b[0m\u001b[0;34m,\u001b[0m \u001b[0mkwargs\u001b[0m\u001b[0;34m)\u001b[0m\u001b[0;34m\u001b[0m\u001b[0;34m\u001b[0m\u001b[0m\n\u001b[0m\u001b[1;32m   1091\u001b[0m         \u001b[0;32mif\u001b[0m \u001b[0mresult\u001b[0m \u001b[0;32mis\u001b[0m \u001b[0;32mnot\u001b[0m \u001b[0mNotImplemented\u001b[0m\u001b[0;34m:\u001b[0m\u001b[0;34m\u001b[0m\u001b[0;34m\u001b[0m\u001b[0m\n\u001b[1;32m   1092\u001b[0m           \u001b[0;32mreturn\u001b[0m \u001b[0mresult\u001b[0m\u001b[0;34m\u001b[0m\u001b[0;34m\u001b[0m\u001b[0m\n",
            "\u001b[0;31mTypeError\u001b[0m: Missing required positional argument"
          ]
        }
      ]
    },
    {
      "cell_type": "code",
      "metadata": {
        "id": "hsVLozUd0Ryl"
      },
      "source": [
        "##train a GAN"
      ],
      "id": "hsVLozUd0Ryl",
      "execution_count": 91,
      "outputs": []
    },
    {
      "cell_type": "code",
      "metadata": {
        "id": "Fq8WL5puYfJ2",
        "outputId": "2d230aaf-d311-4722-b863-3d953d12ca6d",
        "colab": {
          "base_uri": "https://localhost:8080/",
          "height": 236
        }
      },
      "source": [
        "tf.reset_default_graph()\n",
        "batch_size = 50\n",
        "\n",
        "z = tf.placeholder(tf.float32, [None, z_dimensions], name='z_placeholder') \n",
        "# z_placeholder is for feeding input noise to the generator\n",
        "\n",
        "x = tf.placeholder(tf.float32, shape = [None,28,28,1], name='x_placeholder') \n",
        "# x_placeholder is for feeding input images to the discriminator\n",
        "\n",
        "Gz = generator(z_placeholder, batch_size, z_dimensions) \n",
        "# Gz holds the generated images\n",
        "\n",
        "Dx = discriminator(x_placeholder) \n",
        "# Dx will hold discriminator prediction probabilities\n",
        "# for the real MNIST images\n",
        "\n",
        "Dg = discriminator(Gz, reuse_variables=True)\n",
        "# Dg will hold discriminator prediction probabilities for generated images"
      ],
      "id": "Fq8WL5puYfJ2",
      "execution_count": 92,
      "outputs": [
        {
          "output_type": "error",
          "ename": "AttributeError",
          "evalue": "ignored",
          "traceback": [
            "\u001b[0;31m---------------------------------------------------------------------------\u001b[0m",
            "\u001b[0;31mAttributeError\u001b[0m                            Traceback (most recent call last)",
            "\u001b[0;32m<ipython-input-92-9a8495e2238e>\u001b[0m in \u001b[0;36m<module>\u001b[0;34m()\u001b[0m\n\u001b[0;32m----> 1\u001b[0;31m \u001b[0mtf\u001b[0m\u001b[0;34m.\u001b[0m\u001b[0mreset_default_graph\u001b[0m\u001b[0;34m(\u001b[0m\u001b[0;34m)\u001b[0m\u001b[0;34m\u001b[0m\u001b[0;34m\u001b[0m\u001b[0m\n\u001b[0m\u001b[1;32m      2\u001b[0m \u001b[0mbatch_size\u001b[0m \u001b[0;34m=\u001b[0m \u001b[0;36m50\u001b[0m\u001b[0;34m\u001b[0m\u001b[0;34m\u001b[0m\u001b[0m\n\u001b[1;32m      3\u001b[0m \u001b[0;34m\u001b[0m\u001b[0m\n\u001b[1;32m      4\u001b[0m \u001b[0mz\u001b[0m \u001b[0;34m=\u001b[0m \u001b[0mtf\u001b[0m\u001b[0;34m.\u001b[0m\u001b[0mplaceholder\u001b[0m\u001b[0;34m(\u001b[0m\u001b[0mtf\u001b[0m\u001b[0;34m.\u001b[0m\u001b[0mfloat32\u001b[0m\u001b[0;34m,\u001b[0m \u001b[0;34m[\u001b[0m\u001b[0;32mNone\u001b[0m\u001b[0;34m,\u001b[0m \u001b[0mz_dimensions\u001b[0m\u001b[0;34m]\u001b[0m\u001b[0;34m,\u001b[0m \u001b[0mname\u001b[0m\u001b[0;34m=\u001b[0m\u001b[0;34m'z_placeholder'\u001b[0m\u001b[0;34m)\u001b[0m\u001b[0;34m\u001b[0m\u001b[0;34m\u001b[0m\u001b[0m\n\u001b[1;32m      5\u001b[0m \u001b[0;31m# z_placeholder is for feeding input noise to the generator\u001b[0m\u001b[0;34m\u001b[0m\u001b[0;34m\u001b[0m\u001b[0;34m\u001b[0m\u001b[0m\n",
            "\u001b[0;31mAttributeError\u001b[0m: module 'tensorflow' has no attribute 'reset_default_graph'"
          ]
        }
      ]
    },
    {
      "cell_type": "markdown",
      "metadata": {
        "id": "tcn9mJTnzg7-"
      },
      "source": [
        ""
      ],
      "id": "tcn9mJTnzg7-"
    }
  ]
}